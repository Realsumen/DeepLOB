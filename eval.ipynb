{
 "cells": [
  {
   "cell_type": "code",
   "execution_count": 1,
   "id": "46d0f766",
   "metadata": {},
   "outputs": [],
   "source": [
    "from model import DeepLOBLightning\n",
    "import yaml\n",
    "from pathlib import Path\n",
    "import pandas as pd\n",
    "import re\n",
    "from utility import *\n",
    "\n",
    "from eval import *\n",
    "from data import *\n",
    "\n",
    "ckpt_path = \"checkpoints/deepLOB-epoch=05-val_acc=0.0000-v2.ckpt\"\n",
    "\n",
    "model = DeepLOBLightning.load_from_checkpoint(ckpt_path)\n",
    "\n"
   ]
  },
  {
   "cell_type": "code",
   "execution_count": 2,
   "id": "5bba37e5",
   "metadata": {},
   "outputs": [],
   "source": [
    "def _cast_sci(obj):\n",
    "    \"\"\"\n",
    "    递归把符合科学计数法格式的 str 转为 float\n",
    "    \"\"\"\n",
    "    _sci_re = re.compile(\n",
    "        r\"\"\"^[+-]?            # 可选正负号\n",
    "            (?:\\d+\\.\\d*|\\d*\\.\\d+|\\d+)  # 整数或小数\n",
    "            [eE][+-]?\\d+$    # e/E + 指数\n",
    "        \"\"\",\n",
    "        re.VERBOSE,\n",
    "    )\n",
    "\n",
    "    if isinstance(obj, dict):\n",
    "        return {k: _cast_sci(v) for k, v in obj.items()}\n",
    "    if isinstance(obj, list):\n",
    "        return [_cast_sci(v) for v in obj]\n",
    "    if isinstance(obj, str) and _sci_re.match(obj):\n",
    "        return float(obj)\n",
    "    return obj\n",
    "\n",
    "\n",
    "with open(\"config/config.yaml\", encoding=\"utf-8\") as f:\n",
    "    cfg = yaml.safe_load(f)\n",
    "\n",
    "cfg = _cast_sci(cfg)\n",
    "\n",
    "model_cfg = cfg[\"model\"]\n",
    "ckpt_cfg = cfg[\"checkpoint\"]\n",
    "trainer_cfg = cfg[\"trainer\"]\n",
    "\n",
    "set_random_seed(cfg[\"seed\"])\n",
    "\n",
    "data_path = Path(cfg[\"data\"][\"path\"])\n",
    "files = cfg[\"data\"][\"parquet_file\"]\n",
    "if isinstance(files, str):\n",
    "    data = pd.read_parquet(data_path / files)\n",
    "elif isinstance(files, list):\n",
    "    data = [pd.read_parquet(data_path / f) for f in files]\n",
    "else:\n",
    "    raise ValueError(\"cfg['data']['parquet_file'] 应该是 str 或 list[str]\")"
   ]
  },
  {
   "cell_type": "code",
   "execution_count": 3,
   "id": "ed969191",
   "metadata": {},
   "outputs": [],
   "source": [
    "dm = LOBDataModule(\n",
    "    train_data=data[:-1],\n",
    "    test_data=data[-1],\n",
    "    dm_cfg=cfg[\"datamodule\"],\n",
    "    data_cfg=cfg[\"data\"],\n",
    "    task_type=model_cfg[\"task_type\"],\n",
    ")\n",
    "dm.setup()"
   ]
  },
  {
   "cell_type": "code",
   "execution_count": 4,
   "id": "04fe0397",
   "metadata": {},
   "outputs": [
    {
     "name": "stderr",
     "output_type": "stream",
     "text": [
      "  0%|          | 0/109 [00:00<?, ?it/s]/Users/sumen/Documents/workspace/25summer/.venv/lib/python3.13/site-packages/torch/nn/modules/conv.py:549: UserWarning: Using padding='same' with even kernel lengths and odd dilation may require a zero-padded copy of the input be created (Triggered internally at /Users/runner/work/pytorch/pytorch/pytorch/aten/src/ATen/native/Convolution.cpp:1037.)\n",
      "  return F.conv2d(\n",
      "100%|██████████| 109/109 [00:22<00:00,  4.88it/s]\n"
     ]
    },
    {
     "name": "stdout",
     "output_type": "stream",
     "text": [
      "Pearson IC = 0.1621\n",
      "Spearman IC = 0.1842\n",
      "R^2 (no intercept, standard) = 0.0256\n",
      "R^2 (no intercept, formula) = 0.0256\n",
      "MSE = 7.352626\n"
     ]
    },
    {
     "name": "stderr",
     "output_type": "stream",
     "text": [
      "100%|██████████| 13/13 [00:10<00:00,  1.19it/s]\n"
     ]
    },
    {
     "name": "stdout",
     "output_type": "stream",
     "text": [
      "Pearson IC = 0.1718\n",
      "Spearman IC = 0.1891\n",
      "R^2 (no intercept, standard) = 0.0290\n",
      "R^2 (no intercept, formula) = 0.0290\n",
      "MSE = 7.537414\n"
     ]
    },
    {
     "name": "stderr",
     "output_type": "stream",
     "text": [
      "100%|██████████| 41/41 [00:14<00:00,  2.85it/s]\n"
     ]
    },
    {
     "name": "stdout",
     "output_type": "stream",
     "text": [
      "Pearson IC = 0.1578\n",
      "Spearman IC = 0.2038\n",
      "R^2 (no intercept, standard) = 0.0240\n",
      "R^2 (no intercept, formula) = 0.0240\n",
      "MSE = 9.272866\n"
     ]
    }
   ],
   "source": [
    "ckpt_path = \"checkpoints/deepLOB-vlogger.version=0-epoch=07-model.monitor_metric=0.0000.ckpt\"\n",
    "from model import DeepLOBLightning\n",
    "\n",
    "model = DeepLOBLightning.load_from_checkpoint(ckpt_path)\n",
    "\n",
    "evaluate_model(model=model, datamodule=dm, dataset=\"train\")\n",
    "\n",
    "evaluate_model(model=model, datamodule=dm, dataset=\"val\")\n",
    "\n",
    "evaluate_model(model=model, datamodule=dm)\n"
   ]
  },
  {
   "cell_type": "code",
   "execution_count": null,
   "id": "24988fe9",
   "metadata": {},
   "outputs": [],
   "source": []
  }
 ],
 "metadata": {
  "kernelspec": {
   "display_name": ".venv",
   "language": "python",
   "name": "python3"
  },
  "language_info": {
   "codemirror_mode": {
    "name": "ipython",
    "version": 3
   },
   "file_extension": ".py",
   "mimetype": "text/x-python",
   "name": "python",
   "nbconvert_exporter": "python",
   "pygments_lexer": "ipython3",
   "version": "3.13.0"
  }
 },
 "nbformat": 4,
 "nbformat_minor": 5
}
